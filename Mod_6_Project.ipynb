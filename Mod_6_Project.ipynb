{
  "nbformat": 4,
  "nbformat_minor": 0,
  "metadata": {
    "colab": {
      "provenance": [],
      "authorship_tag": "ABX9TyNBDK11esVW8jmk3BTFmZZV",
      "include_colab_link": true
    },
    "kernelspec": {
      "name": "python3",
      "display_name": "Python 3"
    },
    "language_info": {
      "name": "python"
    }
  },
  "cells": [
    {
      "cell_type": "markdown",
      "metadata": {
        "id": "view-in-github",
        "colab_type": "text"
      },
      "source": [
        "<a href=\"https://colab.research.google.com/github/deenarie/2024-Btech-Data-Analytics/blob/main/Mod_6_Project.ipynb\" target=\"_parent\"><img src=\"https://colab.research.google.com/assets/colab-badge.svg\" alt=\"Open In Colab\"/></a>"
      ]
    },
    {
      "cell_type": "code",
      "execution_count": null,
      "metadata": {
        "colab": {
          "base_uri": "https://localhost:8080/",
          "height": 354
        },
        "id": "mh9rto5-tRwm",
        "outputId": "c6d18080-bf50-493e-caca-961c157695dd"
      },
      "outputs": [
        {
          "output_type": "stream",
          "name": "stderr",
          "text": [
            "<ipython-input-1-b2712fc38154>:2: DtypeWarning: Columns (12) have mixed types. Specify dtype option on import or set low_memory=False.\n",
            "  df = pd.read_csv('/content/invoices.csv')\n"
          ]
        },
        {
          "output_type": "execute_result",
          "data": {
            "text/plain": [
              "   InvoiceLineID  InvoiceID  StockItemID  \\\n",
              "0              1          1         67.0   \n",
              "1              2          2         50.0   \n",
              "2              3          2         10.0   \n",
              "\n",
              "                                         Description  PackageTypeID  Quantity  \\\n",
              "0           Ride on toy sedan car (Black) 1/12 scale            7.0      10.0   \n",
              "1  Developer joke mug - old C developers never di...            7.0       9.0   \n",
              "2               USB food flash drive - chocolate bar            7.0       9.0   \n",
              "\n",
              "   UnitPrice  TaxRate  TaxAmount  LineProfit  ExtendedPrice  LastEditedBy  \\\n",
              "0      230.0     15.0      345.0       850.0         2645.0           7.0   \n",
              "1       13.0     15.0        NaN        76.5         -999.0           7.0   \n",
              "2       32.0     15.0       43.2       180.0          331.2           7.0   \n",
              "\n",
              "   LastEditedWhen         Customer  \n",
              "0             NaN    Stuff by Stew  \n",
              "1  1/1/2013 12:00  Wholesaler Plus  \n",
              "2             NaN  Wholesaler Plus  "
            ],
            "text/html": [
              "\n",
              "  <div id=\"df-950df9c4-89fe-45bc-b84d-e50fa21e1e0e\" class=\"colab-df-container\">\n",
              "    <div>\n",
              "<style scoped>\n",
              "    .dataframe tbody tr th:only-of-type {\n",
              "        vertical-align: middle;\n",
              "    }\n",
              "\n",
              "    .dataframe tbody tr th {\n",
              "        vertical-align: top;\n",
              "    }\n",
              "\n",
              "    .dataframe thead th {\n",
              "        text-align: right;\n",
              "    }\n",
              "</style>\n",
              "<table border=\"1\" class=\"dataframe\">\n",
              "  <thead>\n",
              "    <tr style=\"text-align: right;\">\n",
              "      <th></th>\n",
              "      <th>InvoiceLineID</th>\n",
              "      <th>InvoiceID</th>\n",
              "      <th>StockItemID</th>\n",
              "      <th>Description</th>\n",
              "      <th>PackageTypeID</th>\n",
              "      <th>Quantity</th>\n",
              "      <th>UnitPrice</th>\n",
              "      <th>TaxRate</th>\n",
              "      <th>TaxAmount</th>\n",
              "      <th>LineProfit</th>\n",
              "      <th>ExtendedPrice</th>\n",
              "      <th>LastEditedBy</th>\n",
              "      <th>LastEditedWhen</th>\n",
              "      <th>Customer</th>\n",
              "    </tr>\n",
              "  </thead>\n",
              "  <tbody>\n",
              "    <tr>\n",
              "      <th>0</th>\n",
              "      <td>1</td>\n",
              "      <td>1</td>\n",
              "      <td>67.0</td>\n",
              "      <td>Ride on toy sedan car (Black) 1/12 scale</td>\n",
              "      <td>7.0</td>\n",
              "      <td>10.0</td>\n",
              "      <td>230.0</td>\n",
              "      <td>15.0</td>\n",
              "      <td>345.0</td>\n",
              "      <td>850.0</td>\n",
              "      <td>2645.0</td>\n",
              "      <td>7.0</td>\n",
              "      <td>NaN</td>\n",
              "      <td>Stuff by Stew</td>\n",
              "    </tr>\n",
              "    <tr>\n",
              "      <th>1</th>\n",
              "      <td>2</td>\n",
              "      <td>2</td>\n",
              "      <td>50.0</td>\n",
              "      <td>Developer joke mug - old C developers never di...</td>\n",
              "      <td>7.0</td>\n",
              "      <td>9.0</td>\n",
              "      <td>13.0</td>\n",
              "      <td>15.0</td>\n",
              "      <td>NaN</td>\n",
              "      <td>76.5</td>\n",
              "      <td>-999.0</td>\n",
              "      <td>7.0</td>\n",
              "      <td>1/1/2013 12:00</td>\n",
              "      <td>Wholesaler Plus</td>\n",
              "    </tr>\n",
              "    <tr>\n",
              "      <th>2</th>\n",
              "      <td>3</td>\n",
              "      <td>2</td>\n",
              "      <td>10.0</td>\n",
              "      <td>USB food flash drive - chocolate bar</td>\n",
              "      <td>7.0</td>\n",
              "      <td>9.0</td>\n",
              "      <td>32.0</td>\n",
              "      <td>15.0</td>\n",
              "      <td>43.2</td>\n",
              "      <td>180.0</td>\n",
              "      <td>331.2</td>\n",
              "      <td>7.0</td>\n",
              "      <td>NaN</td>\n",
              "      <td>Wholesaler Plus</td>\n",
              "    </tr>\n",
              "  </tbody>\n",
              "</table>\n",
              "</div>\n",
              "    <div class=\"colab-df-buttons\">\n",
              "\n",
              "  <div class=\"colab-df-container\">\n",
              "    <button class=\"colab-df-convert\" onclick=\"convertToInteractive('df-950df9c4-89fe-45bc-b84d-e50fa21e1e0e')\"\n",
              "            title=\"Convert this dataframe to an interactive table.\"\n",
              "            style=\"display:none;\">\n",
              "\n",
              "  <svg xmlns=\"http://www.w3.org/2000/svg\" height=\"24px\" viewBox=\"0 -960 960 960\">\n",
              "    <path d=\"M120-120v-720h720v720H120Zm60-500h600v-160H180v160Zm220 220h160v-160H400v160Zm0 220h160v-160H400v160ZM180-400h160v-160H180v160Zm440 0h160v-160H620v160ZM180-180h160v-160H180v160Zm440 0h160v-160H620v160Z\"/>\n",
              "  </svg>\n",
              "    </button>\n",
              "\n",
              "  <style>\n",
              "    .colab-df-container {\n",
              "      display:flex;\n",
              "      gap: 12px;\n",
              "    }\n",
              "\n",
              "    .colab-df-convert {\n",
              "      background-color: #E8F0FE;\n",
              "      border: none;\n",
              "      border-radius: 50%;\n",
              "      cursor: pointer;\n",
              "      display: none;\n",
              "      fill: #1967D2;\n",
              "      height: 32px;\n",
              "      padding: 0 0 0 0;\n",
              "      width: 32px;\n",
              "    }\n",
              "\n",
              "    .colab-df-convert:hover {\n",
              "      background-color: #E2EBFA;\n",
              "      box-shadow: 0px 1px 2px rgba(60, 64, 67, 0.3), 0px 1px 3px 1px rgba(60, 64, 67, 0.15);\n",
              "      fill: #174EA6;\n",
              "    }\n",
              "\n",
              "    .colab-df-buttons div {\n",
              "      margin-bottom: 4px;\n",
              "    }\n",
              "\n",
              "    [theme=dark] .colab-df-convert {\n",
              "      background-color: #3B4455;\n",
              "      fill: #D2E3FC;\n",
              "    }\n",
              "\n",
              "    [theme=dark] .colab-df-convert:hover {\n",
              "      background-color: #434B5C;\n",
              "      box-shadow: 0px 1px 3px 1px rgba(0, 0, 0, 0.15);\n",
              "      filter: drop-shadow(0px 1px 2px rgba(0, 0, 0, 0.3));\n",
              "      fill: #FFFFFF;\n",
              "    }\n",
              "  </style>\n",
              "\n",
              "    <script>\n",
              "      const buttonEl =\n",
              "        document.querySelector('#df-950df9c4-89fe-45bc-b84d-e50fa21e1e0e button.colab-df-convert');\n",
              "      buttonEl.style.display =\n",
              "        google.colab.kernel.accessAllowed ? 'block' : 'none';\n",
              "\n",
              "      async function convertToInteractive(key) {\n",
              "        const element = document.querySelector('#df-950df9c4-89fe-45bc-b84d-e50fa21e1e0e');\n",
              "        const dataTable =\n",
              "          await google.colab.kernel.invokeFunction('convertToInteractive',\n",
              "                                                    [key], {});\n",
              "        if (!dataTable) return;\n",
              "\n",
              "        const docLinkHtml = 'Like what you see? Visit the ' +\n",
              "          '<a target=\"_blank\" href=https://colab.research.google.com/notebooks/data_table.ipynb>data table notebook</a>'\n",
              "          + ' to learn more about interactive tables.';\n",
              "        element.innerHTML = '';\n",
              "        dataTable['output_type'] = 'display_data';\n",
              "        await google.colab.output.renderOutput(dataTable, element);\n",
              "        const docLink = document.createElement('div');\n",
              "        docLink.innerHTML = docLinkHtml;\n",
              "        element.appendChild(docLink);\n",
              "      }\n",
              "    </script>\n",
              "  </div>\n",
              "\n",
              "\n",
              "<div id=\"df-f6594319-67c2-4d6d-8084-f428a86ec8ba\">\n",
              "  <button class=\"colab-df-quickchart\" onclick=\"quickchart('df-f6594319-67c2-4d6d-8084-f428a86ec8ba')\"\n",
              "            title=\"Suggest charts\"\n",
              "            style=\"display:none;\">\n",
              "\n",
              "<svg xmlns=\"http://www.w3.org/2000/svg\" height=\"24px\"viewBox=\"0 0 24 24\"\n",
              "     width=\"24px\">\n",
              "    <g>\n",
              "        <path d=\"M19 3H5c-1.1 0-2 .9-2 2v14c0 1.1.9 2 2 2h14c1.1 0 2-.9 2-2V5c0-1.1-.9-2-2-2zM9 17H7v-7h2v7zm4 0h-2V7h2v10zm4 0h-2v-4h2v4z\"/>\n",
              "    </g>\n",
              "</svg>\n",
              "  </button>\n",
              "\n",
              "<style>\n",
              "  .colab-df-quickchart {\n",
              "      --bg-color: #E8F0FE;\n",
              "      --fill-color: #1967D2;\n",
              "      --hover-bg-color: #E2EBFA;\n",
              "      --hover-fill-color: #174EA6;\n",
              "      --disabled-fill-color: #AAA;\n",
              "      --disabled-bg-color: #DDD;\n",
              "  }\n",
              "\n",
              "  [theme=dark] .colab-df-quickchart {\n",
              "      --bg-color: #3B4455;\n",
              "      --fill-color: #D2E3FC;\n",
              "      --hover-bg-color: #434B5C;\n",
              "      --hover-fill-color: #FFFFFF;\n",
              "      --disabled-bg-color: #3B4455;\n",
              "      --disabled-fill-color: #666;\n",
              "  }\n",
              "\n",
              "  .colab-df-quickchart {\n",
              "    background-color: var(--bg-color);\n",
              "    border: none;\n",
              "    border-radius: 50%;\n",
              "    cursor: pointer;\n",
              "    display: none;\n",
              "    fill: var(--fill-color);\n",
              "    height: 32px;\n",
              "    padding: 0;\n",
              "    width: 32px;\n",
              "  }\n",
              "\n",
              "  .colab-df-quickchart:hover {\n",
              "    background-color: var(--hover-bg-color);\n",
              "    box-shadow: 0 1px 2px rgba(60, 64, 67, 0.3), 0 1px 3px 1px rgba(60, 64, 67, 0.15);\n",
              "    fill: var(--button-hover-fill-color);\n",
              "  }\n",
              "\n",
              "  .colab-df-quickchart-complete:disabled,\n",
              "  .colab-df-quickchart-complete:disabled:hover {\n",
              "    background-color: var(--disabled-bg-color);\n",
              "    fill: var(--disabled-fill-color);\n",
              "    box-shadow: none;\n",
              "  }\n",
              "\n",
              "  .colab-df-spinner {\n",
              "    border: 2px solid var(--fill-color);\n",
              "    border-color: transparent;\n",
              "    border-bottom-color: var(--fill-color);\n",
              "    animation:\n",
              "      spin 1s steps(1) infinite;\n",
              "  }\n",
              "\n",
              "  @keyframes spin {\n",
              "    0% {\n",
              "      border-color: transparent;\n",
              "      border-bottom-color: var(--fill-color);\n",
              "      border-left-color: var(--fill-color);\n",
              "    }\n",
              "    20% {\n",
              "      border-color: transparent;\n",
              "      border-left-color: var(--fill-color);\n",
              "      border-top-color: var(--fill-color);\n",
              "    }\n",
              "    30% {\n",
              "      border-color: transparent;\n",
              "      border-left-color: var(--fill-color);\n",
              "      border-top-color: var(--fill-color);\n",
              "      border-right-color: var(--fill-color);\n",
              "    }\n",
              "    40% {\n",
              "      border-color: transparent;\n",
              "      border-right-color: var(--fill-color);\n",
              "      border-top-color: var(--fill-color);\n",
              "    }\n",
              "    60% {\n",
              "      border-color: transparent;\n",
              "      border-right-color: var(--fill-color);\n",
              "    }\n",
              "    80% {\n",
              "      border-color: transparent;\n",
              "      border-right-color: var(--fill-color);\n",
              "      border-bottom-color: var(--fill-color);\n",
              "    }\n",
              "    90% {\n",
              "      border-color: transparent;\n",
              "      border-bottom-color: var(--fill-color);\n",
              "    }\n",
              "  }\n",
              "</style>\n",
              "\n",
              "  <script>\n",
              "    async function quickchart(key) {\n",
              "      const quickchartButtonEl =\n",
              "        document.querySelector('#' + key + ' button');\n",
              "      quickchartButtonEl.disabled = true;  // To prevent multiple clicks.\n",
              "      quickchartButtonEl.classList.add('colab-df-spinner');\n",
              "      try {\n",
              "        const charts = await google.colab.kernel.invokeFunction(\n",
              "            'suggestCharts', [key], {});\n",
              "      } catch (error) {\n",
              "        console.error('Error during call to suggestCharts:', error);\n",
              "      }\n",
              "      quickchartButtonEl.classList.remove('colab-df-spinner');\n",
              "      quickchartButtonEl.classList.add('colab-df-quickchart-complete');\n",
              "    }\n",
              "    (() => {\n",
              "      let quickchartButtonEl =\n",
              "        document.querySelector('#df-f6594319-67c2-4d6d-8084-f428a86ec8ba button');\n",
              "      quickchartButtonEl.style.display =\n",
              "        google.colab.kernel.accessAllowed ? 'block' : 'none';\n",
              "    })();\n",
              "  </script>\n",
              "</div>\n",
              "\n",
              "    </div>\n",
              "  </div>\n"
            ],
            "application/vnd.google.colaboratory.intrinsic+json": {
              "type": "dataframe",
              "variable_name": "df"
            }
          },
          "metadata": {},
          "execution_count": 1
        }
      ],
      "source": [
        "import pandas as pd\n",
        "df = pd.read_csv('/content/invoices.csv')\n",
        "df.head(3)"
      ]
    },
    {
      "cell_type": "markdown",
      "source": [
        "1 - How many rows does the data set have?"
      ],
      "metadata": {
        "id": "SO6wMd2-uVzS"
      }
    },
    {
      "cell_type": "code",
      "source": [
        "df.shape"
      ],
      "metadata": {
        "colab": {
          "base_uri": "https://localhost:8080/"
        },
        "id": "caeyCYx2uPn6",
        "outputId": "7c96f8d0-7bee-4369-ad8b-92d59617254d"
      },
      "execution_count": null,
      "outputs": [
        {
          "output_type": "execute_result",
          "data": {
            "text/plain": [
              "(197725, 14)"
            ]
          },
          "metadata": {},
          "execution_count": 2
        }
      ]
    },
    {
      "cell_type": "markdown",
      "source": [
        "2 - Which of the following columns contain null values?"
      ],
      "metadata": {
        "id": "a62S8S3FuPeS"
      }
    },
    {
      "cell_type": "code",
      "source": [
        "col_count = df.isnull().sum()\n",
        "print(col_count)\n",
        "\n"
      ],
      "metadata": {
        "colab": {
          "base_uri": "https://localhost:8080/"
        },
        "id": "7DqdiyaduPSC",
        "outputId": "f2c696ab-9265-4525-e918-ddcfb81af641"
      },
      "execution_count": null,
      "outputs": [
        {
          "output_type": "stream",
          "name": "stdout",
          "text": [
            "InvoiceLineID          0\n",
            "InvoiceID              0\n",
            "StockItemID          396\n",
            "Description          579\n",
            "PackageTypeID          1\n",
            "Quantity               1\n",
            "UnitPrice              1\n",
            "TaxRate                1\n",
            "TaxAmount         103738\n",
            "LineProfit             1\n",
            "ExtendedPrice     100736\n",
            "LastEditedBy           1\n",
            "LastEditedWhen    197721\n",
            "Customer               1\n",
            "dtype: int64\n"
          ]
        }
      ]
    },
    {
      "cell_type": "markdown",
      "source": [
        "3 - Compute the descriptive statistics on the data set. Which columns appear to have logical errors?"
      ],
      "metadata": {
        "id": "M2LjabaJuPER"
      }
    },
    {
      "cell_type": "code",
      "source": [
        "df.describe().round(2)"
      ],
      "metadata": {
        "colab": {
          "base_uri": "https://localhost:8080/",
          "height": 320
        },
        "id": "G9M7sRd2uO3y",
        "outputId": "aa23cbb6-9865-4559-a569-0343d427bea5"
      },
      "execution_count": null,
      "outputs": [
        {
          "output_type": "execute_result",
          "data": {
            "text/plain": [
              "       InvoiceLineID  InvoiceID  StockItemID  PackageTypeID   Quantity  \\\n",
              "count      197725.00  197725.00    197329.00       197724.0  197724.00   \n",
              "mean        98863.00   30454.80       109.58            7.1      38.83   \n",
              "std         57078.44   17592.16        63.38            0.5      54.95   \n",
              "min             1.00       1.00         1.00            7.0       1.00   \n",
              "25%         49432.00   15235.00        54.00            7.0       5.00   \n",
              "50%         98863.00   30406.00       110.00            7.0       9.00   \n",
              "75%        148294.00   45671.00       164.00            7.0      60.00   \n",
              "max        197725.00   60979.00       219.00           10.0    3150.00   \n",
              "\n",
              "       UnitPrice    TaxRate  TaxAmount  LineProfit  ExtendedPrice  \\\n",
              "count  197724.00  197724.00   93987.00   197724.00       96989.00   \n",
              "mean       45.90      14.49     113.39      375.15         738.27   \n",
              "std       140.01       3.89     223.32      752.71        1715.87   \n",
              "min         0.66     -15.00       1.42     -120.00        -999.00   \n",
              "25%        13.00      15.00      14.40       51.00          89.70   \n",
              "50%        18.00      15.00      34.02      120.00         248.40   \n",
              "75%        32.00      15.00     129.60      390.00         905.28   \n",
              "max      1899.00      15.00   14994.00     9200.00      114954.00   \n",
              "\n",
              "       LastEditedBy  \n",
              "count     197724.00  \n",
              "mean          10.82  \n",
              "std            5.52  \n",
              "min            2.00  \n",
              "25%            6.00  \n",
              "50%           11.00  \n",
              "75%           16.00  \n",
              "max           20.00  "
            ],
            "text/html": [
              "\n",
              "  <div id=\"df-10bfafb1-4257-4ea6-a654-f41e8ac2c7c9\" class=\"colab-df-container\">\n",
              "    <div>\n",
              "<style scoped>\n",
              "    .dataframe tbody tr th:only-of-type {\n",
              "        vertical-align: middle;\n",
              "    }\n",
              "\n",
              "    .dataframe tbody tr th {\n",
              "        vertical-align: top;\n",
              "    }\n",
              "\n",
              "    .dataframe thead th {\n",
              "        text-align: right;\n",
              "    }\n",
              "</style>\n",
              "<table border=\"1\" class=\"dataframe\">\n",
              "  <thead>\n",
              "    <tr style=\"text-align: right;\">\n",
              "      <th></th>\n",
              "      <th>InvoiceLineID</th>\n",
              "      <th>InvoiceID</th>\n",
              "      <th>StockItemID</th>\n",
              "      <th>PackageTypeID</th>\n",
              "      <th>Quantity</th>\n",
              "      <th>UnitPrice</th>\n",
              "      <th>TaxRate</th>\n",
              "      <th>TaxAmount</th>\n",
              "      <th>LineProfit</th>\n",
              "      <th>ExtendedPrice</th>\n",
              "      <th>LastEditedBy</th>\n",
              "    </tr>\n",
              "  </thead>\n",
              "  <tbody>\n",
              "    <tr>\n",
              "      <th>count</th>\n",
              "      <td>197725.00</td>\n",
              "      <td>197725.00</td>\n",
              "      <td>197329.00</td>\n",
              "      <td>197724.0</td>\n",
              "      <td>197724.00</td>\n",
              "      <td>197724.00</td>\n",
              "      <td>197724.00</td>\n",
              "      <td>93987.00</td>\n",
              "      <td>197724.00</td>\n",
              "      <td>96989.00</td>\n",
              "      <td>197724.00</td>\n",
              "    </tr>\n",
              "    <tr>\n",
              "      <th>mean</th>\n",
              "      <td>98863.00</td>\n",
              "      <td>30454.80</td>\n",
              "      <td>109.58</td>\n",
              "      <td>7.1</td>\n",
              "      <td>38.83</td>\n",
              "      <td>45.90</td>\n",
              "      <td>14.49</td>\n",
              "      <td>113.39</td>\n",
              "      <td>375.15</td>\n",
              "      <td>738.27</td>\n",
              "      <td>10.82</td>\n",
              "    </tr>\n",
              "    <tr>\n",
              "      <th>std</th>\n",
              "      <td>57078.44</td>\n",
              "      <td>17592.16</td>\n",
              "      <td>63.38</td>\n",
              "      <td>0.5</td>\n",
              "      <td>54.95</td>\n",
              "      <td>140.01</td>\n",
              "      <td>3.89</td>\n",
              "      <td>223.32</td>\n",
              "      <td>752.71</td>\n",
              "      <td>1715.87</td>\n",
              "      <td>5.52</td>\n",
              "    </tr>\n",
              "    <tr>\n",
              "      <th>min</th>\n",
              "      <td>1.00</td>\n",
              "      <td>1.00</td>\n",
              "      <td>1.00</td>\n",
              "      <td>7.0</td>\n",
              "      <td>1.00</td>\n",
              "      <td>0.66</td>\n",
              "      <td>-15.00</td>\n",
              "      <td>1.42</td>\n",
              "      <td>-120.00</td>\n",
              "      <td>-999.00</td>\n",
              "      <td>2.00</td>\n",
              "    </tr>\n",
              "    <tr>\n",
              "      <th>25%</th>\n",
              "      <td>49432.00</td>\n",
              "      <td>15235.00</td>\n",
              "      <td>54.00</td>\n",
              "      <td>7.0</td>\n",
              "      <td>5.00</td>\n",
              "      <td>13.00</td>\n",
              "      <td>15.00</td>\n",
              "      <td>14.40</td>\n",
              "      <td>51.00</td>\n",
              "      <td>89.70</td>\n",
              "      <td>6.00</td>\n",
              "    </tr>\n",
              "    <tr>\n",
              "      <th>50%</th>\n",
              "      <td>98863.00</td>\n",
              "      <td>30406.00</td>\n",
              "      <td>110.00</td>\n",
              "      <td>7.0</td>\n",
              "      <td>9.00</td>\n",
              "      <td>18.00</td>\n",
              "      <td>15.00</td>\n",
              "      <td>34.02</td>\n",
              "      <td>120.00</td>\n",
              "      <td>248.40</td>\n",
              "      <td>11.00</td>\n",
              "    </tr>\n",
              "    <tr>\n",
              "      <th>75%</th>\n",
              "      <td>148294.00</td>\n",
              "      <td>45671.00</td>\n",
              "      <td>164.00</td>\n",
              "      <td>7.0</td>\n",
              "      <td>60.00</td>\n",
              "      <td>32.00</td>\n",
              "      <td>15.00</td>\n",
              "      <td>129.60</td>\n",
              "      <td>390.00</td>\n",
              "      <td>905.28</td>\n",
              "      <td>16.00</td>\n",
              "    </tr>\n",
              "    <tr>\n",
              "      <th>max</th>\n",
              "      <td>197725.00</td>\n",
              "      <td>60979.00</td>\n",
              "      <td>219.00</td>\n",
              "      <td>10.0</td>\n",
              "      <td>3150.00</td>\n",
              "      <td>1899.00</td>\n",
              "      <td>15.00</td>\n",
              "      <td>14994.00</td>\n",
              "      <td>9200.00</td>\n",
              "      <td>114954.00</td>\n",
              "      <td>20.00</td>\n",
              "    </tr>\n",
              "  </tbody>\n",
              "</table>\n",
              "</div>\n",
              "    <div class=\"colab-df-buttons\">\n",
              "\n",
              "  <div class=\"colab-df-container\">\n",
              "    <button class=\"colab-df-convert\" onclick=\"convertToInteractive('df-10bfafb1-4257-4ea6-a654-f41e8ac2c7c9')\"\n",
              "            title=\"Convert this dataframe to an interactive table.\"\n",
              "            style=\"display:none;\">\n",
              "\n",
              "  <svg xmlns=\"http://www.w3.org/2000/svg\" height=\"24px\" viewBox=\"0 -960 960 960\">\n",
              "    <path d=\"M120-120v-720h720v720H120Zm60-500h600v-160H180v160Zm220 220h160v-160H400v160Zm0 220h160v-160H400v160ZM180-400h160v-160H180v160Zm440 0h160v-160H620v160ZM180-180h160v-160H180v160Zm440 0h160v-160H620v160Z\"/>\n",
              "  </svg>\n",
              "    </button>\n",
              "\n",
              "  <style>\n",
              "    .colab-df-container {\n",
              "      display:flex;\n",
              "      gap: 12px;\n",
              "    }\n",
              "\n",
              "    .colab-df-convert {\n",
              "      background-color: #E8F0FE;\n",
              "      border: none;\n",
              "      border-radius: 50%;\n",
              "      cursor: pointer;\n",
              "      display: none;\n",
              "      fill: #1967D2;\n",
              "      height: 32px;\n",
              "      padding: 0 0 0 0;\n",
              "      width: 32px;\n",
              "    }\n",
              "\n",
              "    .colab-df-convert:hover {\n",
              "      background-color: #E2EBFA;\n",
              "      box-shadow: 0px 1px 2px rgba(60, 64, 67, 0.3), 0px 1px 3px 1px rgba(60, 64, 67, 0.15);\n",
              "      fill: #174EA6;\n",
              "    }\n",
              "\n",
              "    .colab-df-buttons div {\n",
              "      margin-bottom: 4px;\n",
              "    }\n",
              "\n",
              "    [theme=dark] .colab-df-convert {\n",
              "      background-color: #3B4455;\n",
              "      fill: #D2E3FC;\n",
              "    }\n",
              "\n",
              "    [theme=dark] .colab-df-convert:hover {\n",
              "      background-color: #434B5C;\n",
              "      box-shadow: 0px 1px 3px 1px rgba(0, 0, 0, 0.15);\n",
              "      filter: drop-shadow(0px 1px 2px rgba(0, 0, 0, 0.3));\n",
              "      fill: #FFFFFF;\n",
              "    }\n",
              "  </style>\n",
              "\n",
              "    <script>\n",
              "      const buttonEl =\n",
              "        document.querySelector('#df-10bfafb1-4257-4ea6-a654-f41e8ac2c7c9 button.colab-df-convert');\n",
              "      buttonEl.style.display =\n",
              "        google.colab.kernel.accessAllowed ? 'block' : 'none';\n",
              "\n",
              "      async function convertToInteractive(key) {\n",
              "        const element = document.querySelector('#df-10bfafb1-4257-4ea6-a654-f41e8ac2c7c9');\n",
              "        const dataTable =\n",
              "          await google.colab.kernel.invokeFunction('convertToInteractive',\n",
              "                                                    [key], {});\n",
              "        if (!dataTable) return;\n",
              "\n",
              "        const docLinkHtml = 'Like what you see? Visit the ' +\n",
              "          '<a target=\"_blank\" href=https://colab.research.google.com/notebooks/data_table.ipynb>data table notebook</a>'\n",
              "          + ' to learn more about interactive tables.';\n",
              "        element.innerHTML = '';\n",
              "        dataTable['output_type'] = 'display_data';\n",
              "        await google.colab.output.renderOutput(dataTable, element);\n",
              "        const docLink = document.createElement('div');\n",
              "        docLink.innerHTML = docLinkHtml;\n",
              "        element.appendChild(docLink);\n",
              "      }\n",
              "    </script>\n",
              "  </div>\n",
              "\n",
              "\n",
              "<div id=\"df-71b813f3-cbe4-45ef-a2bd-ebf49a4a5997\">\n",
              "  <button class=\"colab-df-quickchart\" onclick=\"quickchart('df-71b813f3-cbe4-45ef-a2bd-ebf49a4a5997')\"\n",
              "            title=\"Suggest charts\"\n",
              "            style=\"display:none;\">\n",
              "\n",
              "<svg xmlns=\"http://www.w3.org/2000/svg\" height=\"24px\"viewBox=\"0 0 24 24\"\n",
              "     width=\"24px\">\n",
              "    <g>\n",
              "        <path d=\"M19 3H5c-1.1 0-2 .9-2 2v14c0 1.1.9 2 2 2h14c1.1 0 2-.9 2-2V5c0-1.1-.9-2-2-2zM9 17H7v-7h2v7zm4 0h-2V7h2v10zm4 0h-2v-4h2v4z\"/>\n",
              "    </g>\n",
              "</svg>\n",
              "  </button>\n",
              "\n",
              "<style>\n",
              "  .colab-df-quickchart {\n",
              "      --bg-color: #E8F0FE;\n",
              "      --fill-color: #1967D2;\n",
              "      --hover-bg-color: #E2EBFA;\n",
              "      --hover-fill-color: #174EA6;\n",
              "      --disabled-fill-color: #AAA;\n",
              "      --disabled-bg-color: #DDD;\n",
              "  }\n",
              "\n",
              "  [theme=dark] .colab-df-quickchart {\n",
              "      --bg-color: #3B4455;\n",
              "      --fill-color: #D2E3FC;\n",
              "      --hover-bg-color: #434B5C;\n",
              "      --hover-fill-color: #FFFFFF;\n",
              "      --disabled-bg-color: #3B4455;\n",
              "      --disabled-fill-color: #666;\n",
              "  }\n",
              "\n",
              "  .colab-df-quickchart {\n",
              "    background-color: var(--bg-color);\n",
              "    border: none;\n",
              "    border-radius: 50%;\n",
              "    cursor: pointer;\n",
              "    display: none;\n",
              "    fill: var(--fill-color);\n",
              "    height: 32px;\n",
              "    padding: 0;\n",
              "    width: 32px;\n",
              "  }\n",
              "\n",
              "  .colab-df-quickchart:hover {\n",
              "    background-color: var(--hover-bg-color);\n",
              "    box-shadow: 0 1px 2px rgba(60, 64, 67, 0.3), 0 1px 3px 1px rgba(60, 64, 67, 0.15);\n",
              "    fill: var(--button-hover-fill-color);\n",
              "  }\n",
              "\n",
              "  .colab-df-quickchart-complete:disabled,\n",
              "  .colab-df-quickchart-complete:disabled:hover {\n",
              "    background-color: var(--disabled-bg-color);\n",
              "    fill: var(--disabled-fill-color);\n",
              "    box-shadow: none;\n",
              "  }\n",
              "\n",
              "  .colab-df-spinner {\n",
              "    border: 2px solid var(--fill-color);\n",
              "    border-color: transparent;\n",
              "    border-bottom-color: var(--fill-color);\n",
              "    animation:\n",
              "      spin 1s steps(1) infinite;\n",
              "  }\n",
              "\n",
              "  @keyframes spin {\n",
              "    0% {\n",
              "      border-color: transparent;\n",
              "      border-bottom-color: var(--fill-color);\n",
              "      border-left-color: var(--fill-color);\n",
              "    }\n",
              "    20% {\n",
              "      border-color: transparent;\n",
              "      border-left-color: var(--fill-color);\n",
              "      border-top-color: var(--fill-color);\n",
              "    }\n",
              "    30% {\n",
              "      border-color: transparent;\n",
              "      border-left-color: var(--fill-color);\n",
              "      border-top-color: var(--fill-color);\n",
              "      border-right-color: var(--fill-color);\n",
              "    }\n",
              "    40% {\n",
              "      border-color: transparent;\n",
              "      border-right-color: var(--fill-color);\n",
              "      border-top-color: var(--fill-color);\n",
              "    }\n",
              "    60% {\n",
              "      border-color: transparent;\n",
              "      border-right-color: var(--fill-color);\n",
              "    }\n",
              "    80% {\n",
              "      border-color: transparent;\n",
              "      border-right-color: var(--fill-color);\n",
              "      border-bottom-color: var(--fill-color);\n",
              "    }\n",
              "    90% {\n",
              "      border-color: transparent;\n",
              "      border-bottom-color: var(--fill-color);\n",
              "    }\n",
              "  }\n",
              "</style>\n",
              "\n",
              "  <script>\n",
              "    async function quickchart(key) {\n",
              "      const quickchartButtonEl =\n",
              "        document.querySelector('#' + key + ' button');\n",
              "      quickchartButtonEl.disabled = true;  // To prevent multiple clicks.\n",
              "      quickchartButtonEl.classList.add('colab-df-spinner');\n",
              "      try {\n",
              "        const charts = await google.colab.kernel.invokeFunction(\n",
              "            'suggestCharts', [key], {});\n",
              "      } catch (error) {\n",
              "        console.error('Error during call to suggestCharts:', error);\n",
              "      }\n",
              "      quickchartButtonEl.classList.remove('colab-df-spinner');\n",
              "      quickchartButtonEl.classList.add('colab-df-quickchart-complete');\n",
              "    }\n",
              "    (() => {\n",
              "      let quickchartButtonEl =\n",
              "        document.querySelector('#df-71b813f3-cbe4-45ef-a2bd-ebf49a4a5997 button');\n",
              "      quickchartButtonEl.style.display =\n",
              "        google.colab.kernel.accessAllowed ? 'block' : 'none';\n",
              "    })();\n",
              "  </script>\n",
              "</div>\n",
              "\n",
              "    </div>\n",
              "  </div>\n"
            ],
            "application/vnd.google.colaboratory.intrinsic+json": {
              "type": "dataframe",
              "summary": "{\n  \"name\": \"df\",\n  \"rows\": 8,\n  \"fields\": [\n    {\n      \"column\": \"InvoiceLineID\",\n      \"properties\": {\n        \"dtype\": \"number\",\n        \"std\": 71260.74138459448,\n        \"min\": 1.0,\n        \"max\": 197725.0,\n        \"num_unique_values\": 6,\n        \"samples\": [\n          197725.0,\n          98863.0,\n          148294.0\n        ],\n        \"semantic_type\": \"\",\n        \"description\": \"\"\n      }\n    },\n    {\n      \"column\": \"InvoiceID\",\n      \"properties\": {\n        \"dtype\": \"number\",\n        \"std\": 62662.58712244423,\n        \"min\": 1.0,\n        \"max\": 197725.0,\n        \"num_unique_values\": 8,\n        \"samples\": [\n          30454.8,\n          30406.0,\n          197725.0\n        ],\n        \"semantic_type\": \"\",\n        \"description\": \"\"\n      }\n    },\n    {\n      \"column\": \"StockItemID\",\n      \"properties\": {\n        \"dtype\": \"number\",\n        \"std\": 69729.95544834844,\n        \"min\": 1.0,\n        \"max\": 197329.0,\n        \"num_unique_values\": 8,\n        \"samples\": [\n          109.58,\n          110.0,\n          197329.0\n        ],\n        \"semantic_type\": \"\",\n        \"description\": \"\"\n      }\n    },\n    {\n      \"column\": \"PackageTypeID\",\n      \"properties\": {\n        \"dtype\": \"number\",\n        \"std\": 69903.68750455361,\n        \"min\": 0.5,\n        \"max\": 197724.0,\n        \"num_unique_values\": 5,\n        \"samples\": [\n          7.1,\n          10.0,\n          0.5\n        ],\n        \"semantic_type\": \"\",\n        \"description\": \"\"\n      }\n    },\n    {\n      \"column\": \"Quantity\",\n      \"properties\": {\n        \"dtype\": \"number\",\n        \"std\": 69746.9261857317,\n        \"min\": 1.0,\n        \"max\": 197724.0,\n        \"num_unique_values\": 8,\n        \"samples\": [\n          38.83,\n          9.0,\n          197724.0\n        ],\n        \"semantic_type\": \"\",\n        \"description\": \"\"\n      }\n    },\n    {\n      \"column\": \"UnitPrice\",\n      \"properties\": {\n        \"dtype\": \"number\",\n        \"std\": 69800.51071676142,\n        \"min\": 0.66,\n        \"max\": 197724.0,\n        \"num_unique_values\": 8,\n        \"samples\": [\n          45.9,\n          18.0,\n          197724.0\n        ],\n        \"semantic_type\": \"\",\n        \"description\": \"\"\n      }\n    },\n    {\n      \"column\": \"TaxRate\",\n      \"properties\": {\n        \"dtype\": \"number\",\n        \"std\": 69902.79022142531,\n        \"min\": -15.0,\n        \"max\": 197724.0,\n        \"num_unique_values\": 5,\n        \"samples\": [\n          14.49,\n          15.0,\n          3.89\n        ],\n        \"semantic_type\": \"\",\n        \"description\": \"\"\n      }\n    },\n    {\n      \"column\": \"TaxAmount\",\n      \"properties\": {\n        \"dtype\": \"number\",\n        \"std\": 32862.818470436396,\n        \"min\": 1.42,\n        \"max\": 93987.0,\n        \"num_unique_values\": 8,\n        \"samples\": [\n          113.39,\n          34.02,\n          93987.0\n        ],\n        \"semantic_type\": \"\",\n        \"description\": \"\"\n      }\n    },\n    {\n      \"column\": \"LineProfit\",\n      \"properties\": {\n        \"dtype\": \"number\",\n        \"std\": 69433.06324695972,\n        \"min\": -120.0,\n        \"max\": 197724.0,\n        \"num_unique_values\": 8,\n        \"samples\": [\n          375.15,\n          120.0,\n          197724.0\n        ],\n        \"semantic_type\": \"\",\n        \"description\": \"\"\n      }\n    },\n    {\n      \"column\": \"ExtendedPrice\",\n      \"properties\": {\n        \"dtype\": \"number\",\n        \"std\": 49088.53809697826,\n        \"min\": -999.0,\n        \"max\": 114954.0,\n        \"num_unique_values\": 8,\n        \"samples\": [\n          738.27,\n          248.4,\n          96989.0\n        ],\n        \"semantic_type\": \"\",\n        \"description\": \"\"\n      }\n    },\n    {\n      \"column\": \"LastEditedBy\",\n      \"properties\": {\n        \"dtype\": \"number\",\n        \"std\": 69902.38763020938,\n        \"min\": 2.0,\n        \"max\": 197724.0,\n        \"num_unique_values\": 8,\n        \"samples\": [\n          10.82,\n          11.0,\n          197724.0\n        ],\n        \"semantic_type\": \"\",\n        \"description\": \"\"\n      }\n    }\n  ]\n}"
            }
          },
          "metadata": {},
          "execution_count": 4
        }
      ]
    },
    {
      "cell_type": "markdown",
      "source": [
        "5 - Fix standardization issues in the data set to determine which customer has created the most unique invoices. Which customer created the most invoices?"
      ],
      "metadata": {
        "id": "CEYuuXnXuOSa"
      }
    },
    {
      "cell_type": "code",
      "source": [
        "# Display the count of each company before replacement\n",
        "#print(df['Customer'].value_counts())\n",
        "df = pd.read_csv('/content/invoices.csv')\n",
        "\n",
        "df['Customer'] = df['Customer'].replace(\"Terry's Trinket\", \"Terry's Trinkets\")\n",
        "\n",
        "print(df['Customer'].value_counts())\n"
      ],
      "metadata": {
        "colab": {
          "base_uri": "https://localhost:8080/"
        },
        "id": "CoI2-CQJuOF0",
        "outputId": "8ff9bbab-9ae0-4ea5-ea06-449d9d8ba45c"
      },
      "execution_count": null,
      "outputs": [
        {
          "output_type": "stream",
          "name": "stdout",
          "text": [
            "Customer\n",
            "Terry's Trinkets       81373\n",
            "Stuff by Stew          53955\n",
            "Stuf by Stew           27498\n",
            "Wholesaler Plus        13538\n",
            "Big Buys Retail        11459\n",
            "stuff by stew           6059\n",
            "Dennis Distribution     3842\n",
            "Name: count, dtype: int64\n"
          ]
        },
        {
          "output_type": "stream",
          "name": "stderr",
          "text": [
            "<ipython-input-5-d1a6ca5ebe0d>:3: DtypeWarning: Columns (12) have mixed types. Specify dtype option on import or set low_memory=False.\n",
            "  df = pd.read_csv('/content/invoices.csv')\n"
          ]
        }
      ]
    },
    {
      "cell_type": "markdown",
      "source": [
        "6 - Observe the null values in the LastEditedWhen column. Based on the number of null values in the column and the questions being asked by executives, what do you recommend doing to eliminate null values?"
      ],
      "metadata": {
        "id": "R0uhqq0cuN8b"
      }
    },
    {
      "cell_type": "code",
      "source": [
        "\n",
        "df.drop(columns=['LastEditedWhen'], inplace=True)\n",
        "\n",
        "df.shape\n"
      ],
      "metadata": {
        "colab": {
          "base_uri": "https://localhost:8080/"
        },
        "id": "0Fe9J0Y7uNwe",
        "outputId": "e6124f74-1d13-43ea-e55a-6d4c9736c2fe"
      },
      "execution_count": null,
      "outputs": [
        {
          "output_type": "execute_result",
          "data": {
            "text/plain": [
              "(197725, 13)"
            ]
          },
          "metadata": {},
          "execution_count": 6
        }
      ]
    },
    {
      "cell_type": "markdown",
      "source": [
        "7 - Perform the action that you recommended above. After performing the action, which column contains the most null values?"
      ],
      "metadata": {
        "id": "W2-hlghNuNib"
      }
    },
    {
      "cell_type": "code",
      "source": [
        "col_count = df.isnull().sum()\n",
        "print(col_count)"
      ],
      "metadata": {
        "colab": {
          "base_uri": "https://localhost:8080/"
        },
        "id": "QQdm3T1ouNVS",
        "outputId": "d10038b3-f599-4b07-94ef-e5cf7fc2a320"
      },
      "execution_count": null,
      "outputs": [
        {
          "output_type": "stream",
          "name": "stdout",
          "text": [
            "InvoiceLineID         0\n",
            "InvoiceID             0\n",
            "StockItemID         396\n",
            "Description         579\n",
            "PackageTypeID         1\n",
            "Quantity              1\n",
            "UnitPrice             1\n",
            "TaxRate               1\n",
            "TaxAmount        103738\n",
            "LineProfit            1\n",
            "ExtendedPrice    100736\n",
            "LastEditedBy          1\n",
            "Customer              1\n",
            "dtype: int64\n"
          ]
        }
      ]
    },
    {
      "cell_type": "markdown",
      "source": [
        "8 - Observe the columns StockItemID and Description. Notice that StockItemID is a single number, and each number has a corresponding Description. Thus, by knowing the StockItemID of a row, its Description can be imputed. However, if both the StockItemID and Description are missing, the item is unknown.\n",
        "\n",
        "How many rows have both a null StockItemID and a null Description?"
      ],
      "metadata": {
        "id": "d4Cm8JOVuNIT"
      }
    },
    {
      "cell_type": "code",
      "source": [
        "df[df['StockItemID'].isnull() & df['Description'].isnull()].shape[0]"
      ],
      "metadata": {
        "colab": {
          "base_uri": "https://localhost:8080/"
        },
        "id": "PWRYx_QjuM9E",
        "outputId": "a561a94b-fd1e-461e-9229-a507395fbf74"
      },
      "execution_count": null,
      "outputs": [
        {
          "output_type": "execute_result",
          "data": {
            "text/plain": [
              "396"
            ]
          },
          "metadata": {},
          "execution_count": 8
        }
      ]
    },
    {
      "cell_type": "markdown",
      "source": [
        "9 - Observe the rows that have both a null StockItemID and a null Description. Based on the number of null values and the questions asked by the executives, what do you recommend doing to remove null values from these columns?"
      ],
      "metadata": {
        "id": "fStKlC0WuMs6"
      }
    },
    {
      "cell_type": "code",
      "source": [
        "\n",
        "df[['StockItemID', 'Description']].info\n",
        "df.dropna(subset=['StockItemID', 'Description'],how='all')\n",
        "df.shape"
      ],
      "metadata": {
        "colab": {
          "base_uri": "https://localhost:8080/"
        },
        "id": "d1uTVYq2uMcK",
        "outputId": "e58ec9a3-a40c-4899-93b7-c16cc2cdcb72"
      },
      "execution_count": null,
      "outputs": [
        {
          "output_type": "execute_result",
          "data": {
            "text/plain": [
              "(197725, 13)"
            ]
          },
          "metadata": {},
          "execution_count": 9
        }
      ]
    },
    {
      "cell_type": "markdown",
      "source": [
        "10 - Perform the action that you recommended above. How many rows are left in the data frame?"
      ],
      "metadata": {
        "id": "_VS4n7wPuMRC"
      }
    },
    {
      "cell_type": "code",
      "source": [
        "# df = df[~['StockItemID'].isnull() & df['Description'].isnull()]\n",
        "# df.dropna(subset=['StockItemID', 'Description'],how='all')\n",
        "df.shape[0]"
      ],
      "metadata": {
        "colab": {
          "base_uri": "https://localhost:8080/"
        },
        "id": "2JHbIbgEuL-y",
        "outputId": "87548def-767a-45f5-ba4e-23d532eb1e1d"
      },
      "execution_count": null,
      "outputs": [
        {
          "output_type": "execute_result",
          "data": {
            "text/plain": [
              "197725"
            ]
          },
          "metadata": {},
          "execution_count": 10
        }
      ]
    },
    {
      "cell_type": "markdown",
      "source": [
        "11 - Observe the TaxRate column, which contains some negative values. Based on your domain knowledge and best guess of what tax rates should be, which of the following actions might you recommend for preparing this data set for analysis?"
      ],
      "metadata": {
        "id": "0Le5HyQeuLxS"
      }
    },
    {
      "cell_type": "code",
      "source": [
        "df.describe()"
      ],
      "metadata": {
        "colab": {
          "base_uri": "https://localhost:8080/",
          "height": 320
        },
        "id": "59FXuI9buLoa",
        "outputId": "e7b66de3-5875-4ef7-d20a-c5dfcf3ff28b"
      },
      "execution_count": null,
      "outputs": [
        {
          "output_type": "execute_result",
          "data": {
            "text/plain": [
              "       InvoiceLineID      InvoiceID    StockItemID  PackageTypeID  \\\n",
              "count  197725.000000  197725.000000  197329.000000  197724.000000   \n",
              "mean    98863.000000   30454.798781     109.575379       7.101546   \n",
              "std     57078.435325   17592.159094      63.378028       0.498371   \n",
              "min         1.000000       1.000000       1.000000       7.000000   \n",
              "25%     49432.000000   15235.000000      54.000000       7.000000   \n",
              "50%     98863.000000   30406.000000     110.000000       7.000000   \n",
              "75%    148294.000000   45671.000000     164.000000       7.000000   \n",
              "max    197725.000000   60979.000000     219.000000      10.000000   \n",
              "\n",
              "            Quantity      UnitPrice        TaxRate     TaxAmount  \\\n",
              "count  197724.000000  197724.000000  197724.000000  93987.000000   \n",
              "mean       38.831953      45.898349      14.487012    113.392027   \n",
              "std        54.949190     140.009826       3.889287    223.316489   \n",
              "min         1.000000       0.660000     -15.000000      1.420000   \n",
              "25%         5.000000      13.000000      15.000000     14.400000   \n",
              "50%         9.000000      18.000000      15.000000     34.020000   \n",
              "75%        60.000000      32.000000      15.000000    129.600000   \n",
              "max      3150.000000    1899.000000      15.000000  14994.000000   \n",
              "\n",
              "          LineProfit  ExtendedPrice   LastEditedBy  \n",
              "count  197724.000000   96989.000000  197724.000000  \n",
              "mean      375.148514     738.267930      10.820775  \n",
              "std       752.706406    1715.872703       5.524430  \n",
              "min      -120.000000    -999.000000       2.000000  \n",
              "25%        51.000000      89.700000       6.000000  \n",
              "50%       120.000000     248.400000      11.000000  \n",
              "75%       390.000000     905.280000      16.000000  \n",
              "max      9200.000000  114954.000000      20.000000  "
            ],
            "text/html": [
              "\n",
              "  <div id=\"df-7bde9ddf-0445-46dc-a60a-10e42fbe71c8\" class=\"colab-df-container\">\n",
              "    <div>\n",
              "<style scoped>\n",
              "    .dataframe tbody tr th:only-of-type {\n",
              "        vertical-align: middle;\n",
              "    }\n",
              "\n",
              "    .dataframe tbody tr th {\n",
              "        vertical-align: top;\n",
              "    }\n",
              "\n",
              "    .dataframe thead th {\n",
              "        text-align: right;\n",
              "    }\n",
              "</style>\n",
              "<table border=\"1\" class=\"dataframe\">\n",
              "  <thead>\n",
              "    <tr style=\"text-align: right;\">\n",
              "      <th></th>\n",
              "      <th>InvoiceLineID</th>\n",
              "      <th>InvoiceID</th>\n",
              "      <th>StockItemID</th>\n",
              "      <th>PackageTypeID</th>\n",
              "      <th>Quantity</th>\n",
              "      <th>UnitPrice</th>\n",
              "      <th>TaxRate</th>\n",
              "      <th>TaxAmount</th>\n",
              "      <th>LineProfit</th>\n",
              "      <th>ExtendedPrice</th>\n",
              "      <th>LastEditedBy</th>\n",
              "    </tr>\n",
              "  </thead>\n",
              "  <tbody>\n",
              "    <tr>\n",
              "      <th>count</th>\n",
              "      <td>197725.000000</td>\n",
              "      <td>197725.000000</td>\n",
              "      <td>197329.000000</td>\n",
              "      <td>197724.000000</td>\n",
              "      <td>197724.000000</td>\n",
              "      <td>197724.000000</td>\n",
              "      <td>197724.000000</td>\n",
              "      <td>93987.000000</td>\n",
              "      <td>197724.000000</td>\n",
              "      <td>96989.000000</td>\n",
              "      <td>197724.000000</td>\n",
              "    </tr>\n",
              "    <tr>\n",
              "      <th>mean</th>\n",
              "      <td>98863.000000</td>\n",
              "      <td>30454.798781</td>\n",
              "      <td>109.575379</td>\n",
              "      <td>7.101546</td>\n",
              "      <td>38.831953</td>\n",
              "      <td>45.898349</td>\n",
              "      <td>14.487012</td>\n",
              "      <td>113.392027</td>\n",
              "      <td>375.148514</td>\n",
              "      <td>738.267930</td>\n",
              "      <td>10.820775</td>\n",
              "    </tr>\n",
              "    <tr>\n",
              "      <th>std</th>\n",
              "      <td>57078.435325</td>\n",
              "      <td>17592.159094</td>\n",
              "      <td>63.378028</td>\n",
              "      <td>0.498371</td>\n",
              "      <td>54.949190</td>\n",
              "      <td>140.009826</td>\n",
              "      <td>3.889287</td>\n",
              "      <td>223.316489</td>\n",
              "      <td>752.706406</td>\n",
              "      <td>1715.872703</td>\n",
              "      <td>5.524430</td>\n",
              "    </tr>\n",
              "    <tr>\n",
              "      <th>min</th>\n",
              "      <td>1.000000</td>\n",
              "      <td>1.000000</td>\n",
              "      <td>1.000000</td>\n",
              "      <td>7.000000</td>\n",
              "      <td>1.000000</td>\n",
              "      <td>0.660000</td>\n",
              "      <td>-15.000000</td>\n",
              "      <td>1.420000</td>\n",
              "      <td>-120.000000</td>\n",
              "      <td>-999.000000</td>\n",
              "      <td>2.000000</td>\n",
              "    </tr>\n",
              "    <tr>\n",
              "      <th>25%</th>\n",
              "      <td>49432.000000</td>\n",
              "      <td>15235.000000</td>\n",
              "      <td>54.000000</td>\n",
              "      <td>7.000000</td>\n",
              "      <td>5.000000</td>\n",
              "      <td>13.000000</td>\n",
              "      <td>15.000000</td>\n",
              "      <td>14.400000</td>\n",
              "      <td>51.000000</td>\n",
              "      <td>89.700000</td>\n",
              "      <td>6.000000</td>\n",
              "    </tr>\n",
              "    <tr>\n",
              "      <th>50%</th>\n",
              "      <td>98863.000000</td>\n",
              "      <td>30406.000000</td>\n",
              "      <td>110.000000</td>\n",
              "      <td>7.000000</td>\n",
              "      <td>9.000000</td>\n",
              "      <td>18.000000</td>\n",
              "      <td>15.000000</td>\n",
              "      <td>34.020000</td>\n",
              "      <td>120.000000</td>\n",
              "      <td>248.400000</td>\n",
              "      <td>11.000000</td>\n",
              "    </tr>\n",
              "    <tr>\n",
              "      <th>75%</th>\n",
              "      <td>148294.000000</td>\n",
              "      <td>45671.000000</td>\n",
              "      <td>164.000000</td>\n",
              "      <td>7.000000</td>\n",
              "      <td>60.000000</td>\n",
              "      <td>32.000000</td>\n",
              "      <td>15.000000</td>\n",
              "      <td>129.600000</td>\n",
              "      <td>390.000000</td>\n",
              "      <td>905.280000</td>\n",
              "      <td>16.000000</td>\n",
              "    </tr>\n",
              "    <tr>\n",
              "      <th>max</th>\n",
              "      <td>197725.000000</td>\n",
              "      <td>60979.000000</td>\n",
              "      <td>219.000000</td>\n",
              "      <td>10.000000</td>\n",
              "      <td>3150.000000</td>\n",
              "      <td>1899.000000</td>\n",
              "      <td>15.000000</td>\n",
              "      <td>14994.000000</td>\n",
              "      <td>9200.000000</td>\n",
              "      <td>114954.000000</td>\n",
              "      <td>20.000000</td>\n",
              "    </tr>\n",
              "  </tbody>\n",
              "</table>\n",
              "</div>\n",
              "    <div class=\"colab-df-buttons\">\n",
              "\n",
              "  <div class=\"colab-df-container\">\n",
              "    <button class=\"colab-df-convert\" onclick=\"convertToInteractive('df-7bde9ddf-0445-46dc-a60a-10e42fbe71c8')\"\n",
              "            title=\"Convert this dataframe to an interactive table.\"\n",
              "            style=\"display:none;\">\n",
              "\n",
              "  <svg xmlns=\"http://www.w3.org/2000/svg\" height=\"24px\" viewBox=\"0 -960 960 960\">\n",
              "    <path d=\"M120-120v-720h720v720H120Zm60-500h600v-160H180v160Zm220 220h160v-160H400v160Zm0 220h160v-160H400v160ZM180-400h160v-160H180v160Zm440 0h160v-160H620v160ZM180-180h160v-160H180v160Zm440 0h160v-160H620v160Z\"/>\n",
              "  </svg>\n",
              "    </button>\n",
              "\n",
              "  <style>\n",
              "    .colab-df-container {\n",
              "      display:flex;\n",
              "      gap: 12px;\n",
              "    }\n",
              "\n",
              "    .colab-df-convert {\n",
              "      background-color: #E8F0FE;\n",
              "      border: none;\n",
              "      border-radius: 50%;\n",
              "      cursor: pointer;\n",
              "      display: none;\n",
              "      fill: #1967D2;\n",
              "      height: 32px;\n",
              "      padding: 0 0 0 0;\n",
              "      width: 32px;\n",
              "    }\n",
              "\n",
              "    .colab-df-convert:hover {\n",
              "      background-color: #E2EBFA;\n",
              "      box-shadow: 0px 1px 2px rgba(60, 64, 67, 0.3), 0px 1px 3px 1px rgba(60, 64, 67, 0.15);\n",
              "      fill: #174EA6;\n",
              "    }\n",
              "\n",
              "    .colab-df-buttons div {\n",
              "      margin-bottom: 4px;\n",
              "    }\n",
              "\n",
              "    [theme=dark] .colab-df-convert {\n",
              "      background-color: #3B4455;\n",
              "      fill: #D2E3FC;\n",
              "    }\n",
              "\n",
              "    [theme=dark] .colab-df-convert:hover {\n",
              "      background-color: #434B5C;\n",
              "      box-shadow: 0px 1px 3px 1px rgba(0, 0, 0, 0.15);\n",
              "      filter: drop-shadow(0px 1px 2px rgba(0, 0, 0, 0.3));\n",
              "      fill: #FFFFFF;\n",
              "    }\n",
              "  </style>\n",
              "\n",
              "    <script>\n",
              "      const buttonEl =\n",
              "        document.querySelector('#df-7bde9ddf-0445-46dc-a60a-10e42fbe71c8 button.colab-df-convert');\n",
              "      buttonEl.style.display =\n",
              "        google.colab.kernel.accessAllowed ? 'block' : 'none';\n",
              "\n",
              "      async function convertToInteractive(key) {\n",
              "        const element = document.querySelector('#df-7bde9ddf-0445-46dc-a60a-10e42fbe71c8');\n",
              "        const dataTable =\n",
              "          await google.colab.kernel.invokeFunction('convertToInteractive',\n",
              "                                                    [key], {});\n",
              "        if (!dataTable) return;\n",
              "\n",
              "        const docLinkHtml = 'Like what you see? Visit the ' +\n",
              "          '<a target=\"_blank\" href=https://colab.research.google.com/notebooks/data_table.ipynb>data table notebook</a>'\n",
              "          + ' to learn more about interactive tables.';\n",
              "        element.innerHTML = '';\n",
              "        dataTable['output_type'] = 'display_data';\n",
              "        await google.colab.output.renderOutput(dataTable, element);\n",
              "        const docLink = document.createElement('div');\n",
              "        docLink.innerHTML = docLinkHtml;\n",
              "        element.appendChild(docLink);\n",
              "      }\n",
              "    </script>\n",
              "  </div>\n",
              "\n",
              "\n",
              "<div id=\"df-2060cde1-a22b-4d15-ae92-32b92f0a13c1\">\n",
              "  <button class=\"colab-df-quickchart\" onclick=\"quickchart('df-2060cde1-a22b-4d15-ae92-32b92f0a13c1')\"\n",
              "            title=\"Suggest charts\"\n",
              "            style=\"display:none;\">\n",
              "\n",
              "<svg xmlns=\"http://www.w3.org/2000/svg\" height=\"24px\"viewBox=\"0 0 24 24\"\n",
              "     width=\"24px\">\n",
              "    <g>\n",
              "        <path d=\"M19 3H5c-1.1 0-2 .9-2 2v14c0 1.1.9 2 2 2h14c1.1 0 2-.9 2-2V5c0-1.1-.9-2-2-2zM9 17H7v-7h2v7zm4 0h-2V7h2v10zm4 0h-2v-4h2v4z\"/>\n",
              "    </g>\n",
              "</svg>\n",
              "  </button>\n",
              "\n",
              "<style>\n",
              "  .colab-df-quickchart {\n",
              "      --bg-color: #E8F0FE;\n",
              "      --fill-color: #1967D2;\n",
              "      --hover-bg-color: #E2EBFA;\n",
              "      --hover-fill-color: #174EA6;\n",
              "      --disabled-fill-color: #AAA;\n",
              "      --disabled-bg-color: #DDD;\n",
              "  }\n",
              "\n",
              "  [theme=dark] .colab-df-quickchart {\n",
              "      --bg-color: #3B4455;\n",
              "      --fill-color: #D2E3FC;\n",
              "      --hover-bg-color: #434B5C;\n",
              "      --hover-fill-color: #FFFFFF;\n",
              "      --disabled-bg-color: #3B4455;\n",
              "      --disabled-fill-color: #666;\n",
              "  }\n",
              "\n",
              "  .colab-df-quickchart {\n",
              "    background-color: var(--bg-color);\n",
              "    border: none;\n",
              "    border-radius: 50%;\n",
              "    cursor: pointer;\n",
              "    display: none;\n",
              "    fill: var(--fill-color);\n",
              "    height: 32px;\n",
              "    padding: 0;\n",
              "    width: 32px;\n",
              "  }\n",
              "\n",
              "  .colab-df-quickchart:hover {\n",
              "    background-color: var(--hover-bg-color);\n",
              "    box-shadow: 0 1px 2px rgba(60, 64, 67, 0.3), 0 1px 3px 1px rgba(60, 64, 67, 0.15);\n",
              "    fill: var(--button-hover-fill-color);\n",
              "  }\n",
              "\n",
              "  .colab-df-quickchart-complete:disabled,\n",
              "  .colab-df-quickchart-complete:disabled:hover {\n",
              "    background-color: var(--disabled-bg-color);\n",
              "    fill: var(--disabled-fill-color);\n",
              "    box-shadow: none;\n",
              "  }\n",
              "\n",
              "  .colab-df-spinner {\n",
              "    border: 2px solid var(--fill-color);\n",
              "    border-color: transparent;\n",
              "    border-bottom-color: var(--fill-color);\n",
              "    animation:\n",
              "      spin 1s steps(1) infinite;\n",
              "  }\n",
              "\n",
              "  @keyframes spin {\n",
              "    0% {\n",
              "      border-color: transparent;\n",
              "      border-bottom-color: var(--fill-color);\n",
              "      border-left-color: var(--fill-color);\n",
              "    }\n",
              "    20% {\n",
              "      border-color: transparent;\n",
              "      border-left-color: var(--fill-color);\n",
              "      border-top-color: var(--fill-color);\n",
              "    }\n",
              "    30% {\n",
              "      border-color: transparent;\n",
              "      border-left-color: var(--fill-color);\n",
              "      border-top-color: var(--fill-color);\n",
              "      border-right-color: var(--fill-color);\n",
              "    }\n",
              "    40% {\n",
              "      border-color: transparent;\n",
              "      border-right-color: var(--fill-color);\n",
              "      border-top-color: var(--fill-color);\n",
              "    }\n",
              "    60% {\n",
              "      border-color: transparent;\n",
              "      border-right-color: var(--fill-color);\n",
              "    }\n",
              "    80% {\n",
              "      border-color: transparent;\n",
              "      border-right-color: var(--fill-color);\n",
              "      border-bottom-color: var(--fill-color);\n",
              "    }\n",
              "    90% {\n",
              "      border-color: transparent;\n",
              "      border-bottom-color: var(--fill-color);\n",
              "    }\n",
              "  }\n",
              "</style>\n",
              "\n",
              "  <script>\n",
              "    async function quickchart(key) {\n",
              "      const quickchartButtonEl =\n",
              "        document.querySelector('#' + key + ' button');\n",
              "      quickchartButtonEl.disabled = true;  // To prevent multiple clicks.\n",
              "      quickchartButtonEl.classList.add('colab-df-spinner');\n",
              "      try {\n",
              "        const charts = await google.colab.kernel.invokeFunction(\n",
              "            'suggestCharts', [key], {});\n",
              "      } catch (error) {\n",
              "        console.error('Error during call to suggestCharts:', error);\n",
              "      }\n",
              "      quickchartButtonEl.classList.remove('colab-df-spinner');\n",
              "      quickchartButtonEl.classList.add('colab-df-quickchart-complete');\n",
              "    }\n",
              "    (() => {\n",
              "      let quickchartButtonEl =\n",
              "        document.querySelector('#df-2060cde1-a22b-4d15-ae92-32b92f0a13c1 button');\n",
              "      quickchartButtonEl.style.display =\n",
              "        google.colab.kernel.accessAllowed ? 'block' : 'none';\n",
              "    })();\n",
              "  </script>\n",
              "</div>\n",
              "\n",
              "    </div>\n",
              "  </div>\n"
            ],
            "application/vnd.google.colaboratory.intrinsic+json": {
              "type": "dataframe",
              "summary": "{\n  \"name\": \"df\",\n  \"rows\": 8,\n  \"fields\": [\n    {\n      \"column\": \"InvoiceLineID\",\n      \"properties\": {\n        \"dtype\": \"number\",\n        \"std\": 71260.7418430525,\n        \"min\": 1.0,\n        \"max\": 197725.0,\n        \"num_unique_values\": 6,\n        \"samples\": [\n          197725.0,\n          98863.0,\n          148294.0\n        ],\n        \"semantic_type\": \"\",\n        \"description\": \"\"\n      }\n    },\n    {\n      \"column\": \"InvoiceID\",\n      \"properties\": {\n        \"dtype\": \"number\",\n        \"std\": 62662.58724254025,\n        \"min\": 1.0,\n        \"max\": 197725.0,\n        \"num_unique_values\": 8,\n        \"samples\": [\n          30454.798781135414,\n          30406.0,\n          197725.0\n        ],\n        \"semantic_type\": \"\",\n        \"description\": \"\"\n      }\n    },\n    {\n      \"column\": \"StockItemID\",\n      \"properties\": {\n        \"dtype\": \"number\",\n        \"std\": 69729.95578142985,\n        \"min\": 1.0,\n        \"max\": 197329.0,\n        \"num_unique_values\": 8,\n        \"samples\": [\n          109.57537918907003,\n          110.0,\n          197329.0\n        ],\n        \"semantic_type\": \"\",\n        \"description\": \"\"\n      }\n    },\n    {\n      \"column\": \"PackageTypeID\",\n      \"properties\": {\n        \"dtype\": \"number\",\n        \"std\": 69903.68750879257,\n        \"min\": 0.49837091754162943,\n        \"max\": 197724.0,\n        \"num_unique_values\": 5,\n        \"samples\": [\n          7.10154558880055,\n          10.0,\n          0.49837091754162943\n        ],\n        \"semantic_type\": \"\",\n        \"description\": \"\"\n      }\n    },\n    {\n      \"column\": \"Quantity\",\n      \"properties\": {\n        \"dtype\": \"number\",\n        \"std\": 69746.92612697883,\n        \"min\": 1.0,\n        \"max\": 197724.0,\n        \"num_unique_values\": 8,\n        \"samples\": [\n          38.831952620824985,\n          9.0,\n          197724.0\n        ],\n        \"semantic_type\": \"\",\n        \"description\": \"\"\n      }\n    },\n    {\n      \"column\": \"UnitPrice\",\n      \"properties\": {\n        \"dtype\": \"number\",\n        \"std\": 69800.51080983861,\n        \"min\": 0.66,\n        \"max\": 197724.0,\n        \"num_unique_values\": 8,\n        \"samples\": [\n          45.89834931520706,\n          18.0,\n          197724.0\n        ],\n        \"semantic_type\": \"\",\n        \"description\": \"\"\n      }\n    },\n    {\n      \"column\": \"TaxRate\",\n      \"properties\": {\n        \"dtype\": \"number\",\n        \"std\": 69902.79040831387,\n        \"min\": -15.0,\n        \"max\": 197724.0,\n        \"num_unique_values\": 5,\n        \"samples\": [\n          14.487012198822601,\n          15.0,\n          3.889287088213451\n        ],\n        \"semantic_type\": \"\",\n        \"description\": \"\"\n      }\n    },\n    {\n      \"column\": \"TaxAmount\",\n      \"properties\": {\n        \"dtype\": \"number\",\n        \"std\": 32862.81855630673,\n        \"min\": 1.42,\n        \"max\": 93987.0,\n        \"num_unique_values\": 8,\n        \"samples\": [\n          113.3920268760573,\n          34.02,\n          93987.0\n        ],\n        \"semantic_type\": \"\",\n        \"description\": \"\"\n      }\n    },\n    {\n      \"column\": \"LineProfit\",\n      \"properties\": {\n        \"dtype\": \"number\",\n        \"std\": 69433.06351265202,\n        \"min\": -120.0,\n        \"max\": 197724.0,\n        \"num_unique_values\": 8,\n        \"samples\": [\n          375.1485138374705,\n          120.0,\n          197724.0\n        ],\n        \"semantic_type\": \"\",\n        \"description\": \"\"\n      }\n    },\n    {\n      \"column\": \"ExtendedPrice\",\n      \"properties\": {\n        \"dtype\": \"number\",\n        \"std\": 49088.538056619305,\n        \"min\": -999.0,\n        \"max\": 114954.0,\n        \"num_unique_values\": 8,\n        \"samples\": [\n          738.2679296621267,\n          248.4,\n          96989.0\n        ],\n        \"semantic_type\": \"\",\n        \"description\": \"\"\n      }\n    },\n    {\n      \"column\": \"LastEditedBy\",\n      \"properties\": {\n        \"dtype\": \"number\",\n        \"std\": 69902.38736723225,\n        \"min\": 2.0,\n        \"max\": 197724.0,\n        \"num_unique_values\": 8,\n        \"samples\": [\n          10.820775424328863,\n          11.0,\n          197724.0\n        ],\n        \"semantic_type\": \"\",\n        \"description\": \"\"\n      }\n    }\n  ]\n}"
            }
          },
          "metadata": {},
          "execution_count": 11
        }
      ]
    },
    {
      "cell_type": "markdown",
      "source": [
        "12 - Observe the TaxRate column, which contains some negative values. Based on your domain knowledge and best guess of what tax rates should be, which of the following actions might you recommend for preparing this data set for analysis?"
      ],
      "metadata": {
        "id": "tK8eBHKPuLYa"
      }
    },
    {
      "cell_type": "code",
      "source": [],
      "metadata": {
        "id": "3872GDL0uLL8"
      },
      "execution_count": null,
      "outputs": []
    },
    {
      "cell_type": "markdown",
      "source": [
        "13 - Observe the column TaxAmount, which indicates the amount of tax paid for each invoice line. The TaxAmount can be calculated using the following formula:\n",
        "\n",
        "\n",
        "Based on this knowledge, the number of null values in the data set, and the questions being asked by the executives, what do you recommend doing to remove null values from this column?"
      ],
      "metadata": {
        "id": "2A7EFRDVuLAc"
      }
    },
    {
      "cell_type": "markdown",
      "source": [
        "14 - Perform the action that you recommended above. What is the average TaxAmount after removing the null values?"
      ],
      "metadata": {
        "id": "kdkh7tR2vUoH"
      }
    },
    {
      "cell_type": "code",
      "source": [
        "df['TaxAmount'].fillna((df['UnitPrice'] * df['Quantity'] * df['TaxRate'])/100, inplace = True)\n",
        "df['TaxAmount'].mean()"
      ],
      "metadata": {
        "colab": {
          "base_uri": "https://localhost:8080/"
        },
        "id": "KvcEHnlWvWci",
        "outputId": "0c4a7d18-dab6-40a7-e090-686f15aa7cc7"
      },
      "execution_count": null,
      "outputs": [
        {
          "output_type": "execute_result",
          "data": {
            "text/plain": [
              "110.95270547581474"
            ]
          },
          "metadata": {},
          "execution_count": 12
        }
      ]
    },
    {
      "cell_type": "markdown",
      "source": [],
      "metadata": {
        "id": "CQiHDBGtwjvO"
      }
    },
    {
      "cell_type": "markdown",
      "source": [
        "15 - Observe the column ExtendedPrice, which indicates the total price paid by the customer. The ExtendedPrice can be calculated using the following formula:\n",
        "\n",
        "\n",
        "# Based on this knowledge, the number of null values in the data set, and the questions being asked by the executives, what do you recommend doing to remove null values from this column?"
      ],
      "metadata": {
        "id": "W4Z0wTwjvWNK"
      }
    },
    {
      "cell_type": "code",
      "source": [
        "df['ExtendedPrice'].info()"
      ],
      "metadata": {
        "colab": {
          "base_uri": "https://localhost:8080/"
        },
        "id": "eNIvN78mvWBi",
        "outputId": "ec1c44ae-256c-4099-d0c5-02f5142c3ecd"
      },
      "execution_count": null,
      "outputs": [
        {
          "output_type": "stream",
          "name": "stdout",
          "text": [
            "<class 'pandas.core.series.Series'>\n",
            "RangeIndex: 197725 entries, 0 to 197724\n",
            "Series name: ExtendedPrice\n",
            "Non-Null Count  Dtype  \n",
            "--------------  -----  \n",
            "96989 non-null  float64\n",
            "dtypes: float64(1)\n",
            "memory usage: 1.5 MB\n"
          ]
        }
      ]
    },
    {
      "cell_type": "markdown",
      "source": [
        "16 - Perform the action that you recommended above. Treat the values of -999 as an input error and perform the recommended action on that value as well. After addressing these issues, what is the average ExtendedPrice?\n"
      ],
      "metadata": {
        "id": "8cLnAH0TvVyS"
      }
    },
    {
      "cell_type": "code",
      "source": [
        "# df['ExtendedPrice'].fillna(((df['UnitPrice'] * df['Quantity']) + df['TaxAmount']), inplace = True)\n",
        "# df.loc[(df['ExtendedPrice] == 999), 'ExtendedPrice'] = ((df['UnitPrice']) * ['Quantity'] + ['TaxAmount'])\n",
        "# df['ExtendedPrice'].mean()\n",
        "\n",
        "\n",
        "# Fill missing values in 'ExtendedPrice' using the formula\n",
        "df['ExtendedPrice'].fillna((df['UnitPrice'] * df['Quantity']) + df['TaxAmount'], inplace=True)\n",
        "\n",
        "# Replace values of 'ExtendedPrice' that are 999 with the calculated formula\n",
        "df.loc[df['ExtendedPrice'] == 999, 'ExtendedPrice'] = (df['UnitPrice'] * df['Quantity']) + df['TaxAmount']\n",
        "\n",
        "# Calculate and print the mean of 'ExtendedPrice'\n",
        "mean_extended_price = df['ExtendedPrice'].mean()\n",
        "print(mean_extended_price)"
      ],
      "metadata": {
        "colab": {
          "base_uri": "https://localhost:8080/"
        },
        "id": "1uAIVovjvVfb",
        "outputId": "46c806fd-67aa-4594-ba05-37da12d2c6fc"
      },
      "execution_count": null,
      "outputs": [
        {
          "output_type": "stream",
          "name": "stdout",
          "text": [
            "800.4910962250409\n"
          ]
        }
      ]
    },
    {
      "cell_type": "markdown",
      "source": [
        "17 - Observe values in the Quantity and ExtendedPrice columns. Use the z-score method with a threshold of 3 to determine which rows are outliers in these columns.\n",
        "\n",
        "Based on the Quantity column, how many rows could be considered outliers?"
      ],
      "metadata": {
        "id": "aYmm7bcavVST"
      }
    },
    {
      "cell_type": "code",
      "source": [],
      "metadata": {
        "id": "94pbog82vU8z"
      },
      "execution_count": null,
      "outputs": []
    },
    {
      "cell_type": "markdown",
      "source": [
        "18 - Observe values in the Quantity and ExtendedPrice columns. Use the z-score method with a threshold of 3 to determine which rows are outliers in these columns. Make sure that you get rows that have a z-score greater than or equal to 3.\n",
        "\n",
        "Based on the ExtendedPrice column, how many rows could be considered outliers?"
      ],
      "metadata": {
        "id": "eFwe4fBqvyzW"
      }
    },
    {
      "cell_type": "code",
      "source": [],
      "metadata": {
        "id": "87rBHA8hvzKo"
      },
      "execution_count": null,
      "outputs": []
    },
    {
      "cell_type": "markdown",
      "source": [
        "19 - Perform the action that you recommended above. Also use the same action to replace values that are most likely business logical errors. What is the average ExtendedPrice after removing the null values and business logical errors?"
      ],
      "metadata": {
        "id": "hZXHdjvGv0hK"
      }
    },
    {
      "cell_type": "code",
      "source": [],
      "metadata": {
        "id": "M0pX-Sunvzz-"
      },
      "execution_count": null,
      "outputs": []
    },
    {
      "cell_type": "markdown",
      "source": [
        "20 - Observe the InvoiceLineID and the InvoiceID columns. The data set provided should have a unique ID for each invoice line, but there can be repeated invoice IDs because several different lines can be from the same invoice. Based on this knowledge, how would you handle checking for duplicate rows in the data set?"
      ],
      "metadata": {
        "id": "QR4UDLmrvzh6"
      }
    },
    {
      "cell_type": "code",
      "source": [],
      "metadata": {
        "id": "LlyonDWzwG_h"
      },
      "execution_count": null,
      "outputs": []
    },
    {
      "cell_type": "markdown",
      "source": [
        "21 - Perform the action that you recommended above and drop duplicate rows from the data set. How many total rows are in the data set after performing this action?"
      ],
      "metadata": {
        "id": "AXHMghkewG2L"
      }
    },
    {
      "cell_type": "code",
      "source": [],
      "metadata": {
        "id": "ZPv1xcl8wGoj"
      },
      "execution_count": null,
      "outputs": []
    },
    {
      "cell_type": "markdown",
      "source": [
        "22 - At this point, you should have a data set that is mostly free of null values (only has some null values in the Description column). Use this data set to answer the questions below.\n",
        "\n",
        "Which item has the highest total quantity sold? Use the Description and Quantity columns."
      ],
      "metadata": {
        "id": "olB367_bwGWq"
      }
    },
    {
      "cell_type": "code",
      "source": [],
      "metadata": {
        "id": "mTvpXvwXwGG6"
      },
      "execution_count": null,
      "outputs": []
    },
    {
      "cell_type": "markdown",
      "source": [
        "23 - Which item has generated the most total profit? Use the Description and LineProfit columns."
      ],
      "metadata": {
        "id": "JIHfsdjHwF87"
      }
    },
    {
      "cell_type": "code",
      "source": [],
      "metadata": {
        "id": "7slcjxl8wFxi"
      },
      "execution_count": null,
      "outputs": []
    },
    {
      "cell_type": "markdown",
      "source": [
        "24 - Which item is purchased in greatest quantities in a single order, on average? Use the Quantity and Description columns."
      ],
      "metadata": {
        "id": "su9mPIggwFm6"
      }
    },
    {
      "cell_type": "code",
      "source": [],
      "metadata": {
        "id": "oiXTQn7kwFa0"
      },
      "execution_count": null,
      "outputs": []
    },
    {
      "cell_type": "markdown",
      "source": [],
      "metadata": {
        "id": "2wvbNIxIwFOC"
      }
    },
    {
      "cell_type": "code",
      "source": [],
      "metadata": {
        "id": "LAg8c_8_wFAL"
      },
      "execution_count": null,
      "outputs": []
    },
    {
      "cell_type": "markdown",
      "source": [],
      "metadata": {
        "id": "OddMRCppwEzh"
      }
    },
    {
      "cell_type": "code",
      "source": [],
      "metadata": {
        "id": "qYzQvg2SwEXD"
      },
      "execution_count": null,
      "outputs": []
    },
    {
      "cell_type": "markdown",
      "source": [],
      "metadata": {
        "id": "5D_BxThKwDJ3"
      }
    }
  ]
}